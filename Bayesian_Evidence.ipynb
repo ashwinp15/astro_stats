{
  "nbformat": 4,
  "nbformat_minor": 0,
  "metadata": {
    "kernelspec": {
      "display_name": "Python 3",
      "language": "python",
      "name": "python3"
    },
    "language_info": {
      "codemirror_mode": {
        "name": "ipython",
        "version": 3
      },
      "file_extension": ".py",
      "mimetype": "text/x-python",
      "name": "python",
      "nbconvert_exporter": "python",
      "pygments_lexer": "ipython3",
      "version": "3.7.3"
    },
    "colab": {
      "name": "Bayesian_Evidence.ipynb",
      "provenance": [],
      "include_colab_link": true
    }
  },
  "cells": [
    {
      "cell_type": "markdown",
      "metadata": {
        "id": "view-in-github",
        "colab_type": "text"
      },
      "source": [
        "<a href=\"https://colab.research.google.com/github/ashwinp15/astro_stats/blob/master/Bayesian_Evidence.ipynb\" target=\"_parent\"><img src=\"https://colab.research.google.com/assets/colab-badge.svg\" alt=\"Open In Colab\"/></a>"
      ]
    },
    {
      "cell_type": "code",
      "metadata": {
        "id": "4Mz12TEGTNDR",
        "colab_type": "code",
        "outputId": "c3df364c-aa97-4d88-a42e-ca87bfb120d9",
        "colab": {
          "base_uri": "https://localhost:8080/",
          "height": 120
        }
      },
      "source": [
        "from google.colab import drive\n",
        "drive.mount('/content/drive')"
      ],
      "execution_count": 1,
      "outputs": [
        {
          "output_type": "stream",
          "text": [
            "Go to this URL in a browser: https://accounts.google.com/o/oauth2/auth?client_id=947318989803-6bn6qk8qdgf4n4g3pfee6491hc0brc4i.apps.googleusercontent.com&redirect_uri=urn%3aietf%3awg%3aoauth%3a2.0%3aoob&response_type=code&scope=email%20https%3a%2f%2fwww.googleapis.com%2fauth%2fdocs.test%20https%3a%2f%2fwww.googleapis.com%2fauth%2fdrive%20https%3a%2f%2fwww.googleapis.com%2fauth%2fdrive.photos.readonly%20https%3a%2f%2fwww.googleapis.com%2fauth%2fpeopleapi.readonly\n",
            "\n",
            "Enter your authorization code:\n",
            "··········\n",
            "Mounted at /content/drive\n"
          ],
          "name": "stdout"
        }
      ]
    },
    {
      "cell_type": "code",
      "metadata": {
        "id": "ScLNLSXsTKdq",
        "colab_type": "code",
        "colab": {}
      },
      "source": [
        "import os\n",
        "os.chdir('/content/drive/My Drive/Spectral_Lag')"
      ],
      "execution_count": 0,
      "outputs": []
    },
    {
      "cell_type": "code",
      "metadata": {
        "id": "nHQ9CNgPc29V",
        "colab_type": "code",
        "outputId": "e8d46de6-df3e-41f3-eb57-e7f905e8359d",
        "colab": {
          "base_uri": "https://localhost:8080/",
          "height": 251
        }
      },
      "source": [
        "!pip install dynesty"
      ],
      "execution_count": 3,
      "outputs": [
        {
          "output_type": "stream",
          "text": [
            "Collecting dynesty\n",
            "\u001b[?25l  Downloading https://files.pythonhosted.org/packages/78/2d/7bb5f7e6eb7e67f5dbf276cfd98cbc93b78da79cefeb5c9cfc92cee20deb/dynesty-1.0.0-py2.py3-none-any.whl (84kB)\n",
            "\r\u001b[K     |███▉                            | 10kB 20.8MB/s eta 0:00:01\r\u001b[K     |███████▊                        | 20kB 1.8MB/s eta 0:00:01\r\u001b[K     |███████████▋                    | 30kB 2.6MB/s eta 0:00:01\r\u001b[K     |███████████████▍                | 40kB 1.7MB/s eta 0:00:01\r\u001b[K     |███████████████████▎            | 51kB 2.1MB/s eta 0:00:01\r\u001b[K     |███████████████████████▏        | 61kB 2.5MB/s eta 0:00:01\r\u001b[K     |███████████████████████████     | 71kB 2.9MB/s eta 0:00:01\r\u001b[K     |██████████████████████████████▉ | 81kB 3.3MB/s eta 0:00:01\r\u001b[K     |████████████████████████████████| 92kB 3.0MB/s \n",
            "\u001b[?25hRequirement already satisfied: numpy in /usr/local/lib/python3.6/dist-packages (from dynesty) (1.17.4)\n",
            "Requirement already satisfied: scipy in /usr/local/lib/python3.6/dist-packages (from dynesty) (1.3.3)\n",
            "Requirement already satisfied: matplotlib in /usr/local/lib/python3.6/dist-packages (from dynesty) (3.1.2)\n",
            "Requirement already satisfied: six in /usr/local/lib/python3.6/dist-packages (from dynesty) (1.12.0)\n",
            "Requirement already satisfied: python-dateutil>=2.1 in /usr/local/lib/python3.6/dist-packages (from matplotlib->dynesty) (2.6.1)\n",
            "Requirement already satisfied: cycler>=0.10 in /usr/local/lib/python3.6/dist-packages (from matplotlib->dynesty) (0.10.0)\n",
            "Requirement already satisfied: kiwisolver>=1.0.1 in /usr/local/lib/python3.6/dist-packages (from matplotlib->dynesty) (1.1.0)\n",
            "Requirement already satisfied: pyparsing!=2.0.4,!=2.1.2,!=2.1.6,>=2.0.1 in /usr/local/lib/python3.6/dist-packages (from matplotlib->dynesty) (2.4.5)\n",
            "Requirement already satisfied: setuptools in /usr/local/lib/python3.6/dist-packages (from kiwisolver>=1.0.1->matplotlib->dynesty) (42.0.2)\n",
            "Installing collected packages: dynesty\n",
            "Successfully installed dynesty-1.0.0\n"
          ],
          "name": "stdout"
        }
      ]
    },
    {
      "cell_type": "code",
      "metadata": {
        "id": "lWu5M1SlSOEP",
        "colab_type": "code",
        "colab": {}
      },
      "source": [
        "import pandas as pd\n",
        "df = pd.read_csv(\"Data.csv\")"
      ],
      "execution_count": 0,
      "outputs": []
    },
    {
      "cell_type": "code",
      "metadata": {
        "id": "wwk3rEZ6SOEY",
        "colab_type": "code",
        "outputId": "b0eb0f76-d114-4ede-aedd-1cb76bd84c99",
        "colab": {
          "base_uri": "https://localhost:8080/",
          "height": 167
        }
      },
      "source": [
        "df['X'] = df['X'].apply(lambda X:sum(map(int, X.split('-')))/2)\n",
        "print(df.describe())"
      ],
      "execution_count": 5,
      "outputs": [
        {
          "output_type": "stream",
          "text": [
            "                  X          Y          E\n",
            "count     37.000000  37.000000  37.000000\n",
            "mean    3271.081081   1.755081   0.289676\n",
            "std     4805.451130   1.205085   0.250918\n",
            "min       14.000000  -0.223000   0.120000\n",
            "25%      120.500000   0.913000   0.130000\n",
            "50%      979.000000   1.856000   0.179000\n",
            "75%     4256.500000   2.334000   0.290000\n",
            "max    18494.000000   4.435000   1.030000\n"
          ],
          "name": "stdout"
        }
      ]
    },
    {
      "cell_type": "code",
      "metadata": {
        "id": "cZR0TjKCSOEu",
        "colab_type": "code",
        "colab": {}
      },
      "source": [
        "from numpy import exp\n",
        "import scipy.integrate as integral\n",
        "def model(E, theta, deg):\n",
        "    f = lambda z: (1+z)**deg/((0.685+0.315*(1+z)**3)**0.5)\n",
        "    i, unc = integral.quad(f, 0, 1.406)\n",
        "\n",
        "    # for the case of no LIV\n",
        "    if(deg==0):\n",
        "        return theta[0]*(E**theta[1] - 11.34**theta[1])\n",
        "\n",
        "    # for LIV of order n=1 and n=2\n",
        "    return theta[0]*(E**theta[1] - 11.34**theta[1]) - (1+deg)*(E**deg - 11.34**deg)*i/(2*67.3*(theta[2]**deg))"
      ],
      "execution_count": 0,
      "outputs": []
    },
    {
      "cell_type": "code",
      "metadata": {
        "id": "ulQpWXIjhdUU",
        "colab_type": "code",
        "colab": {}
      },
      "source": [
        "import numpy as np\n",
        "import dynesty"
      ],
      "execution_count": 0,
      "outputs": []
    },
    {
      "cell_type": "code",
      "metadata": {
        "id": "_S4pBNLGdARu",
        "colab_type": "code",
        "colab": {}
      },
      "source": [
        "from scipy.stats import uniform\n",
        "def prior(theta, deg):\n",
        "  if deg==0:\n",
        "    return np.array([uniform.ppf(theta[0], 0, 10),           # prior for tau      \n",
        "                     uniform.ppf(theta[1], 0, 2)])\n",
        "    \n",
        "  return np.array([uniform.ppf(theta[0], 0, 10),           # prior for tau      \n",
        "                   uniform.ppf(theta[1], 0, 2),           # prior for alpha\n",
        "                   uniform.ppf(theta[2], 1e7, 1e16)])       # prior for E_QG"
      ],
      "execution_count": 0,
      "outputs": []
    },
    {
      "cell_type": "code",
      "metadata": {
        "id": "j67kIMWwxCQz",
        "colab_type": "code",
        "colab": {}
      },
      "source": [
        "def loglike(theta, deg, df=df):\n",
        "  E = df['X']\n",
        "  t = df['Y']\n",
        "  err = df['E']\n",
        "  tM = model(E, theta, deg)\n",
        "  return -0.5 * np.sum(np.log(2 * np.pi * err ** 2)\n",
        "                         + (t - tM) ** 2 / err ** 2)\n"
      ],
      "execution_count": 0,
      "outputs": []
    },
    {
      "cell_type": "code",
      "metadata": {
        "id": "OFDZVOnd1o9P",
        "colab_type": "code",
        "colab": {}
      },
      "source": [
        "import functools\n",
        "# this function takes the degree as input and returns the log likelihood function and prior for the corresponding model\n",
        "\n",
        "def functional(flag, deg_i):\n",
        "  if flag:                                                                    \n",
        "    return functools.partial(loglike, deg=deg_i)\n",
        "  return functools.partial(prior, deg=deg_i)"
      ],
      "execution_count": 0,
      "outputs": []
    },
    {
      "cell_type": "code",
      "metadata": {
        "id": "21bWT5UIhdPw",
        "colab_type": "code",
        "colab": {}
      },
      "source": [
        "def calc_bayesian_evidence(degree):\n",
        "  ndim = (degree!=0)+2\n",
        "  loglike = functional(1, degree)\n",
        "  prior = functional(0, degree)\n",
        "  sampler = dynesty.NestedSampler(loglike, prior, ndim)\n",
        "  return sampler\n"
      ],
      "execution_count": 0,
      "outputs": []
    },
    {
      "cell_type": "code",
      "metadata": {
        "id": "4x1wAoAVvHRK",
        "colab_type": "code",
        "outputId": "a2124305-dd57-4303-9669-8bbb2252fc68",
        "colab": {
          "base_uri": "https://localhost:8080/",
          "height": 87
        }
      },
      "source": [
        "log_Bayes_Ev = []\n",
        "for i in range(3):\n",
        "  sampler = calc_bayesian_evidence(i)\n",
        "  sampler.run_nested()\n",
        "  result = sampler.results\n",
        "  niter = result.niter\n",
        "  log_Bayes_Ev.append(result.logz[niter-1])"
      ],
      "execution_count": 45,
      "outputs": [
        {
          "output_type": "stream",
          "text": [
            "4081it [00:52, 77.10it/s, +500 | bound: 9 | nc: 1 | ncall: 24591 | eff(%): 18.629 | loglstar:   -inf < -24.143 <    inf | logz: -31.429 +/-    nan | dlogz:  0.001 >  0.509]\n",
            "4040it [01:12, 55.60it/s, +500 | bound: 8 | nc: 1 | ncall: 23492 | eff(%): 19.326 | loglstar:   -inf < -24.143 <    inf | logz: -31.347 +/-    nan | dlogz:  0.001 >  0.509]\n",
            "3982it [01:09, 57.23it/s, +500 | bound: 7 | nc: 1 | ncall: 22793 | eff(%): 19.664 | loglstar:   -inf < -24.143 <    inf | logz: -31.233 +/-    nan | dlogz:  0.001 >  0.509]\n"
          ],
          "name": "stderr"
        }
      ]
    }
  ]
}